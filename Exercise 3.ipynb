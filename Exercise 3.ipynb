{
 "cells": [
  {
   "cell_type": "code",
   "execution_count": 1,
   "id": "4ff33a8b",
   "metadata": {
    "scrolled": true
   },
   "outputs": [
    {
     "data": {
      "text/plain": [
       "9"
      ]
     },
     "execution_count": 1,
     "metadata": {},
     "output_type": "execute_result"
    }
   ],
   "source": [
    "#a program that finds the maximum value of the given list \n",
    "Garry=[2,4,7,4,2,3,5,1,4,8,9]\n",
    "max(Garry)"
   ]
  },
  {
   "cell_type": "code",
   "execution_count": 2,
   "id": "6a14ffc0",
   "metadata": {},
   "outputs": [
    {
     "name": "stdout",
     "output_type": "stream",
     "text": [
      "12.0\n"
     ]
    }
   ],
   "source": [
    "#program that calculates the average value of the given list\n",
    "Carry=[4, 7, 1, 5, 1,1 ,53, 1, 2 ,46, 8, 4 , 23]\n",
    "assd=sum(Carry)\n",
    "fag=len(Carry)\n",
    "avg=assd/fag\n",
    "print(avg)"
   ]
  },
  {
   "cell_type": "code",
   "execution_count": 2,
   "id": "c4c30f28",
   "metadata": {
    "scrolled": true
   },
   "outputs": [
    {
     "data": {
      "text/plain": [
       "[5, 89, 45, 14, 53, 23, 45, 7, 6, 2]"
      ]
     },
     "execution_count": 2,
     "metadata": {},
     "output_type": "execute_result"
    }
   ],
   "source": [
    "# program that prints the given list of integers in reverse order\n",
    "gy=[2, 6, 7, 45, 23, 53, 14, 45, 89, 5]\n",
    "gy.reverse()\n",
    "gy\n",
    "\n"
   ]
  },
  {
   "cell_type": "code",
   "execution_count": null,
   "id": "3ef05a23",
   "metadata": {
    "scrolled": false
   },
   "outputs": [],
   "source": [
    "a=[4,7,1,5,1,1,53,1,2,46]\n",
    "b=[2,6,7,45,23,53,14,45,89,5]\n",
    "if len(a) != len(b):\n",
    "    print('false')\n",
    "else:\n",
    "    for i,j in zip(a,b):\n",
    "         if i < j:\n",
    "            print('true')\n",
    "\n",
    "    \n",
    "\n",
    "    \n",
    "    "
   ]
  },
  {
   "cell_type": "code",
   "execution_count": 5,
   "id": "e7d952f7",
   "metadata": {
    "scrolled": true
   },
   "outputs": [
    {
     "name": "stdout",
     "output_type": "stream",
     "text": [
      "88\n"
     ]
    }
   ],
   "source": [
    "#No.8\n",
    "#A program that prints the range of values in a list of integers. The range is defined as 1 more than the difference between the maximum and minimum values in the list\n",
    "cuz=[2, 6, 7, 45, 23, 53, 14, 45, 89, 5]\n",
    "rang_=(max(cuz)-min(cuz)+1)\n",
    "print(rang_)"
   ]
  },
  {
   "cell_type": "code",
   "execution_count": null,
   "id": "39cce93c",
   "metadata": {},
   "outputs": [],
   "source": [
    "#A program that accepts a list of integers, a minimum value, and a maximum value and prints the count of how many elements from the list fall between the minimum and maximum (inclusive).\n",
    "\n",
    "frag=[14, 1, 22, 17, 36, 7, -43, 5]\n",
    "min_val=input('what is your min value, ')\n",
    "max_val=input('what is your max value, ')\n",
    "count=0\n",
    "for i in frag:\n",
    "    if i in range (int(min_val),int(max_val)+1):\n",
    "        count+=1\n",
    "print(f'There are {count} numbers within the range')\n",
    "    \n"
   ]
  },
  {
   "cell_type": "code",
   "execution_count": 2,
   "id": "8c1e85c6",
   "metadata": {
    "scrolled": true
   },
   "outputs": [
    {
     "name": "stdout",
     "output_type": "stream",
     "text": [
      "yo! please input the list you'd like to check: [1,2,3]\n",
      "true\n"
     ]
    }
   ],
   "source": [
    "#Write a program that accepts a list of real numbers and prints true if the list is in sorted (nondecreasing) order and false otherwise\n",
    "\n",
    "Bu=input('yo! please input the list you\\'d like to check: ')\n",
    "hp= eval(Bu)\n",
    "nyt=sorted(hp)\n",
    "if nyt==hp:\n",
    "    print('true')\n",
    "else:\n",
    "    print('false')\n"
   ]
  },
  {
   "cell_type": "code",
   "execution_count": 3,
   "id": "54131c08",
   "metadata": {},
   "outputs": [
    {
     "name": "stdout",
     "output_type": "stream",
     "text": [
      "[1, 4, 7, 4, 9]\n"
     ]
    }
   ],
   "source": [
    "#NO.5 Write a program that accepts a list of integers and two indexes and swaps the elements at those indexes\n",
    "lst_=[4,4,7,1,9]\n",
    "lst_[0],lst_[3]=lst_[3],lst_[0]\n",
    "print(lst_)"
   ]
  },
  {
   "cell_type": "code",
   "execution_count": 7,
   "id": "c380ef9a",
   "metadata": {},
   "outputs": [
    {
     "name": "stdout",
     "output_type": "stream",
     "text": [
      "[3, 6, 8, 223, 6, 9, 78, 3, 9, 1, 59, 6]\n"
     ]
    }
   ],
   "source": [
    "#Write a program that accepts two lists of integers and prints a new list containing all elements of the first list followed by all elements of the second.\n",
    "sa=[3,6,8,223,6,9]\n",
    "ki=[78,3,9,1,59,6]\n",
    "pacj=sa + ki\n",
    "print(pacj)"
   ]
  },
  {
   "cell_type": "code",
   "execution_count": 34,
   "id": "cf0ca6c8",
   "metadata": {},
   "outputs": [
    {
     "name": "stdout",
     "output_type": "stream",
     "text": [
      "what element are we checking: 85\n",
      "5\n"
     ]
    }
   ],
   "source": [
    "mij=[74, 85, 102, 99, 101, 85, 74] \n",
    "mij.reverse()\n",
    "checker=input('what element are we checking: ')\n",
    "indexx=mij.index(int(checker))\n",
    "print(len(mij)-indexx-1)"
   ]
  },
  {
   "cell_type": "code",
   "execution_count": null,
   "id": "b2d14334",
   "metadata": {},
   "outputs": [],
   "source": []
  }
 ],
 "metadata": {
  "kernelspec": {
   "display_name": "Python 3 (ipykernel)",
   "language": "python",
   "name": "python3"
  },
  "language_info": {
   "codemirror_mode": {
    "name": "ipython",
    "version": 3
   },
   "file_extension": ".py",
   "mimetype": "text/x-python",
   "name": "python",
   "nbconvert_exporter": "python",
   "pygments_lexer": "ipython3",
   "version": "3.11.4"
  }
 },
 "nbformat": 4,
 "nbformat_minor": 5
}
