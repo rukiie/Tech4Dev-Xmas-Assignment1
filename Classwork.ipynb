{
 "cells": [
  {
   "cell_type": "code",
   "execution_count": 4,
   "id": "2313f6ee",
   "metadata": {},
   "outputs": [
    {
     "name": "stdout",
     "output_type": "stream",
     "text": [
      "1 2 3 4 5 6 7 8 9 10 "
     ]
    }
   ],
   "source": [
    "#print first 10 natural numbers\n",
    "for i in range(1,11):\n",
    "    print(i,end=' ')"
   ]
  },
  {
   "cell_type": "code",
   "execution_count": 5,
   "id": "de0d8953",
   "metadata": {
    "scrolled": true
   },
   "outputs": [
    {
     "name": "stdout",
     "output_type": "stream",
     "text": [
      "====The first 10 natural numbers====\n"
     ]
    }
   ],
   "source": [
    "print('====The first 10 natural numbers====')"
   ]
  },
  {
   "cell_type": "code",
   "execution_count": 6,
   "id": "70747a60",
   "metadata": {
    "scrolled": true
   },
   "outputs": [
    {
     "data": {
      "text/plain": [
       "7"
      ]
     },
     "execution_count": 6,
     "metadata": {},
     "output_type": "execute_result"
    }
   ],
   "source": [
    "#count total number of digits in number\n",
    "Rays=3999932\n",
    "len(str(Rays))"
   ]
  },
  {
   "cell_type": "code",
   "execution_count": 2,
   "id": "bae1ba80",
   "metadata": {
    "scrolled": true
   },
   "outputs": [
    {
     "name": "stdout",
     "output_type": "stream",
     "text": [
      "7\n"
     ]
    }
   ],
   "source": [
    "#second method of the above cause i felt i\"d fail by using a short method\n",
    "GRays=3999932\n",
    "i=0\n",
    "while GRays != 0:\n",
    "    GRays=GRays//10\n",
    "    i +=1\n",
    "print(i)\n"
   ]
  },
  {
   "cell_type": "code",
   "execution_count": 4,
   "id": "0247a778",
   "metadata": {},
   "outputs": [
    {
     "name": "stdout",
     "output_type": "stream",
     "text": [
      "1 2 3 5 7 11 13 17 "
     ]
    }
   ],
   "source": [
    "#prime numbers within a range\n",
    "for i in range(1,18):\n",
    "    for k in range(2,i):\n",
    "        if (i % k == 0):\n",
    "            break\n",
    "    else:\n",
    "            print(i,end=' ')"
   ]
  },
  {
   "cell_type": "code",
   "execution_count": 2,
   "id": "1c61dbd6",
   "metadata": {},
   "outputs": [
    {
     "name": "stdout",
     "output_type": "stream",
     "text": [
      "12 x 1 = 12\n",
      "12 x 2 = 24\n",
      "12 x 3 = 36\n",
      "12 x 4 = 48\n",
      "12 x 5 = 60\n",
      "12 x 6 = 72\n",
      "12 x 7 = 84\n",
      "12 x 8 = 96\n",
      "12 x 9 = 108\n",
      "12 x 10 = 120\n",
      "12 x 11 = 132\n",
      "12 x 12 = 144\n"
     ]
    }
   ],
   "source": [
    "num=12\n",
    "for i in range(1,13):\n",
    "    fag=num*i\n",
    "    print(num ,'x' ,i ,'=' ,fag)\n"
   ]
  },
  {
   "cell_type": "code",
   "execution_count": null,
   "id": "300d9dbf",
   "metadata": {},
   "outputs": [],
   "source": []
  }
 ],
 "metadata": {
  "kernelspec": {
   "display_name": "Python 3 (ipykernel)",
   "language": "python",
   "name": "python3"
  },
  "language_info": {
   "codemirror_mode": {
    "name": "ipython",
    "version": 3
   },
   "file_extension": ".py",
   "mimetype": "text/x-python",
   "name": "python",
   "nbconvert_exporter": "python",
   "pygments_lexer": "ipython3",
   "version": "3.11.4"
  }
 },
 "nbformat": 4,
 "nbformat_minor": 5
}
