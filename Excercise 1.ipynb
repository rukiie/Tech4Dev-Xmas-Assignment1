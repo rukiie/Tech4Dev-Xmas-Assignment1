{
 "cells": [
  {
   "cell_type": "markdown",
   "id": "ae4229a2",
   "metadata": {},
   "source": [
    "Output of some print statements"
   ]
  },
  {
   "cell_type": "code",
   "execution_count": 7,
   "id": "ac551c3a",
   "metadata": {
    "scrolled": true
   },
   "outputs": [
    {
     "name": "stdout",
     "output_type": "stream",
     "text": [
      "\ta\tb\tc\n"
     ]
    }
   ],
   "source": [
    "print(\"\\ta\\tb\\tc\") "
   ]
  },
  {
   "cell_type": "code",
   "execution_count": 2,
   "id": "9635221e",
   "metadata": {},
   "outputs": [
    {
     "name": "stdout",
     "output_type": "stream",
     "text": [
      "\\\\\n"
     ]
    }
   ],
   "source": [
    "print(\"\\\\\\\\\")"
   ]
  },
  {
   "cell_type": "code",
   "execution_count": 8,
   "id": "9bdbf81a",
   "metadata": {},
   "outputs": [
    {
     "name": "stdout",
     "output_type": "stream",
     "text": [
      "'\n"
     ]
    }
   ],
   "source": [
    "print(\"'\")"
   ]
  },
  {
   "cell_type": "code",
   "execution_count": 9,
   "id": "361a96e7",
   "metadata": {},
   "outputs": [
    {
     "name": "stdout",
     "output_type": "stream",
     "text": [
      "\"\"\"\n"
     ]
    }
   ],
   "source": [
    "print(\"\\\"\\\"\\\"\")"
   ]
  },
  {
   "cell_type": "code",
   "execution_count": 12,
   "id": "56fdb2c8",
   "metadata": {},
   "outputs": [
    {
     "name": "stdout",
     "output_type": "stream",
     "text": [
      "C:\n",
      "in\the downward spiral\n"
     ]
    }
   ],
   "source": [
    "print(\"C:\\nin\\the downward spiral\")"
   ]
  },
  {
   "cell_type": "markdown",
   "id": "eb1ccc16",
   "metadata": {},
   "source": [
    "#trying tp print this / \\ // \\\\ /// \\\\\\"
   ]
  },
  {
   "cell_type": "code",
   "execution_count": 13,
   "id": "6aaf0092",
   "metadata": {},
   "outputs": [
    {
     "name": "stdout",
     "output_type": "stream",
     "text": [
      "/ \\ // \\\\ /// \\\\\\\n"
     ]
    }
   ],
   "source": [
    "print('/' ,'\\\\' ,'//' ,'\\\\\\\\' ,'///' ,'\\\\\\\\\\\\')"
   ]
  },
  {
   "cell_type": "code",
   "execution_count": 19,
   "id": "e738e83a",
   "metadata": {},
   "outputs": [
    {
     "name": "stdout",
     "output_type": "stream",
     "text": [
      "This quote is from \n",
      "\n",
      "Irish poet Oscar Wilde:\n",
      "\n",
      "\"Music makes one feel so romantic\n",
      "\n",
      "- at least it always gets on one's nerves – \n",
      "\n",
      "which is the same thing nowadays.\"\n"
     ]
    }
   ],
   "source": [
    "print('This quote is from ')\n",
    "print('\\nIrish poet Oscar Wilde:')\n",
    "print('\\n\\\"Music makes one feel so romantic')\n",
    "print('\\n- at least it always gets on one\\'s nerves – ')\n",
    "print('\\nwhich is the same thing nowadays.\\\"')"
   ]
  },
  {
   "cell_type": "code",
   "execution_count": 27,
   "id": "bf007945",
   "metadata": {},
   "outputs": [
    {
     "name": "stdout",
     "output_type": "stream",
     "text": [
      "\n",
      "A \"quoted\" String is\n",
      "\n",
      "'much' better if you learn\n",
      "\n",
      "the rules of \"escape sequences.\"\n",
      "\n",
      "Also, \"\" represents an empty String.\n",
      "\n",
      "Don't forget: use \\\" instead of \" !\n",
      "\n",
      "'' is not the same as \"\n"
     ]
    }
   ],
   "source": [
    "print('\\nA \\\"quoted\\\" String is')\n",
    "print('\\n\\'much\\' better if you learn')\n",
    "print('\\nthe rules of \\\"escape sequences.\\\"')\n",
    "print('\\nAlso, \\\"\\\" represents an empty String.')\n",
    "print('\\nDon\\'t forget: use \\\\\" instead of \\\" !')\n",
    "print('\\n\\'\\' is not the same as \\\"')\n"
   ]
  },
  {
   "cell_type": "code",
   "execution_count": null,
   "id": "64379fcd",
   "metadata": {},
   "outputs": [],
   "source": [
    "#number 5 answer"
   ]
  },
  {
   "cell_type": "markdown",
   "id": "bd7ed343",
   "metadata": {},
   "source": [
    "\t9 / 5 =\n",
    "\t695 % 20 =15\n",
    "\t7 + 6 * 5 =37 \n",
    "\t7 * 6 + 5 =47\n",
    "\t248 % 100 / 5 =9.6\n",
    "\t6 * 3 - 9 / 4 =15.75\n",
    "\t(5 - 7) * 4 =-8\n",
    "\t6 + (18 % (17 - 12)) =9\n"
   ]
  },
  {
   "cell_type": "code",
   "execution_count": null,
   "id": "dc62e10d",
   "metadata": {},
   "outputs": [],
   "source": []
  }
 ],
 "metadata": {
  "kernelspec": {
   "display_name": "Python 3 (ipykernel)",
   "language": "python",
   "name": "python3"
  },
  "language_info": {
   "codemirror_mode": {
    "name": "ipython",
    "version": 3
   },
   "file_extension": ".py",
   "mimetype": "text/x-python",
   "name": "python",
   "nbconvert_exporter": "python",
   "pygments_lexer": "ipython3",
   "version": "3.11.4"
  }
 },
 "nbformat": 4,
 "nbformat_minor": 5
}
