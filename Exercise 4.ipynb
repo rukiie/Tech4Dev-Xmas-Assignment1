{
 "cells": [
  {
   "cell_type": "code",
   "execution_count": 60,
   "id": "3cdb658b",
   "metadata": {},
   "outputs": [
    {
     "name": "stdout",
     "output_type": "stream",
     "text": [
      "+----+\n",
      "\n",
      "\\    /\n",
      "\n",
      "/    \\\n",
      "\n",
      "\\    /\n",
      "\n",
      "/    \\\n",
      "\n",
      "\\    /\n",
      "\n",
      "/    \\\n",
      "\n",
      "+----+"
     ]
    }
   ],
   "source": [
    "\n",
    "for k in range(1,7):\n",
    "    if k==1 or k==6:\n",
    "        print('+',end='')\n",
    "    else:\n",
    "        print('-',end='')\n",
    "for k in range(1,7):\n",
    "    if k==1:\n",
    "        print('\\n\\n\\\\',end='')\n",
    "    elif k==6:\n",
    "        print('/',end='')\n",
    "    else:\n",
    "        print(' ',end ='')\n",
    "for k in range(1,7):\n",
    "    if k==1:\n",
    "        print('\\n\\n/',end='')\n",
    "    elif k==6:\n",
    "        print('\\\\',end='')\n",
    "    else:\n",
    "        print(' ',end ='')\n",
    "for k in range(1,7):\n",
    "    if k==1:\n",
    "        print('\\n\\n\\\\',end='')\n",
    "    elif k==6:\n",
    "        print('/',end='')\n",
    "    else:\n",
    "        print(' ',end ='')\n",
    "for k in range(1,7):\n",
    "    if k==1:\n",
    "        print('\\n\\n/',end='')\n",
    "    elif k==6:\n",
    "        print('\\\\',end='')\n",
    "    else:\n",
    "        print(' ',end ='')\n",
    "for k in range(1,7):\n",
    "    if k==1:\n",
    "        print('\\n\\n\\\\',end='')\n",
    "    elif k==6:\n",
    "        print('/',end='')\n",
    "    else:\n",
    "        print(' ',end ='')   \n",
    "for k in range(1,7):\n",
    "    if k==1:\n",
    "        print('\\n\\n/',end='')\n",
    "    elif k==6:\n",
    "        print('\\\\',end='')\n",
    "    else:\n",
    "        print(' ',end ='')\n",
    "for k in range(1,7):\n",
    "    if k==1:\n",
    "        print('\\n\\n+',end='')\n",
    "    elif k==6:\n",
    "        print('+',end='')\n",
    "    else:\n",
    "        print('-',end='')"
   ]
  },
  {
   "cell_type": "code",
   "execution_count": 15,
   "id": "8b1db73b",
   "metadata": {},
   "outputs": [
    {
     "name": "stdout",
     "output_type": "stream",
     "text": [
      "**********\n",
      "\n",
      "**********\n",
      "\n",
      "**********\n",
      "\n",
      "**********\n",
      "\n",
      "**********\n"
     ]
    }
   ],
   "source": [
    " for i in range(1,6):\n",
    "        if i==1:\n",
    "            print('*'*10)\n",
    "        else:\n",
    "            print('\\n'+ '*'*10)\n",
    "        "
   ]
  },
  {
   "cell_type": "markdown",
   "id": "d8f77674",
   "metadata": {},
   "source": [
    "NO. 3 ANASWERS\n"
   ]
  },
  {
   "cell_type": "code",
   "execution_count": 2,
   "id": "d13de7d4",
   "metadata": {
    "scrolled": true
   },
   "outputs": [
    {
     "name": "stdout",
     "output_type": "stream",
     "text": [
      "1\n",
      "2\n",
      "3\n",
      "4\n",
      "5\n",
      "6\n"
     ]
    }
   ],
   "source": [
    "#A\n",
    "for k in range(1,7):\n",
    "    print(k)"
   ]
  },
  {
   "cell_type": "code",
   "execution_count": 27,
   "id": "f5db1bab",
   "metadata": {},
   "outputs": [
    {
     "name": "stdout",
     "output_type": "stream",
     "text": [
      "2\n",
      "4\n",
      "6\n",
      "8\n",
      "10\n",
      "12\n"
     ]
    }
   ],
   "source": [
    "#B\n",
    "sum=0\n",
    "for i in range(1,9):\n",
    "    if i>2:\n",
    "        sum +=2\n",
    "        print(sum)"
   ]
  },
  {
   "cell_type": "code",
   "execution_count": 6,
   "id": "0e4da186",
   "metadata": {
    "scrolled": false
   },
   "outputs": [
    {
     "name": "stdout",
     "output_type": "stream",
     "text": [
      "4\n",
      "19\n",
      "34\n",
      "49\n",
      "64\n",
      "79\n"
     ]
    }
   ],
   "source": [
    "#C\n",
    "for i in range(4,80,15):\n",
    "    print(i)"
   ]
  },
  {
   "cell_type": "code",
   "execution_count": 18,
   "id": "0ba321f5",
   "metadata": {},
   "outputs": [
    {
     "name": "stdout",
     "output_type": "stream",
     "text": [
      "30\n",
      "20\n",
      "10\n",
      "0\n",
      "-10\n",
      "-20\n"
     ]
    }
   ],
   "source": [
    "#D\n",
    "for i in range(30,-21,-10):\n",
    "    print(i)"
   ]
  },
  {
   "cell_type": "code",
   "execution_count": 13,
   "id": "8cd4ea8e",
   "metadata": {
    "scrolled": true
   },
   "outputs": [
    {
     "name": "stdout",
     "output_type": "stream",
     "text": [
      "-7\n",
      "-3\n",
      "1\n",
      "5\n",
      "9\n",
      "13\n"
     ]
    }
   ],
   "source": [
    "#E\n",
    "for i in range(-7,14,4):\n",
    "    print(i)"
   ]
  },
  {
   "cell_type": "code",
   "execution_count": 17,
   "id": "3cef048a",
   "metadata": {
    "scrolled": true
   },
   "outputs": [
    {
     "name": "stdout",
     "output_type": "stream",
     "text": [
      "97\n",
      "94\n",
      "91\n",
      "88\n",
      "85\n",
      "82\n"
     ]
    }
   ],
   "source": [
    "#F\n",
    "for i in range(97,81,-3):\n",
    "    print(i)"
   ]
  },
  {
   "cell_type": "code",
   "execution_count": 33,
   "id": "5a4647ea",
   "metadata": {
    "scrolled": true
   },
   "outputs": [
    {
     "name": "stdout",
     "output_type": "stream",
     "text": [
      "-4\n",
      "14\n",
      "32\n",
      "50\n",
      "68\n",
      "86\n"
     ]
    }
   ],
   "source": [
    "#G\n",
    "for i in range(-4,87,18):\n",
    "    print(i)"
   ]
  },
  {
   "cell_type": "code",
   "execution_count": 50,
   "id": "1777712d",
   "metadata": {
    "scrolled": true
   },
   "outputs": [
    {
     "name": "stdout",
     "output_type": "stream",
     "text": [
      "1\n",
      "22\n",
      "333\n",
      "4444\n",
      "55555\n",
      "666666\n",
      "7777777\n"
     ]
    }
   ],
   "source": [
    "#N0.5\n",
    "NUMBER=7\n",
    "for i in range(1,NUMBER+1):\n",
    "    for j in range(1,i+1):\n",
    "        print(i,end='')\n",
    "    print()    "
   ]
  },
  {
   "cell_type": "code",
   "execution_count": 91,
   "id": "9c01f176",
   "metadata": {},
   "outputs": [
    {
     "name": "stdout",
     "output_type": "stream",
     "text": [
      "50.0\n"
     ]
    }
   ],
   "source": [
    "def pay(x,y):\n",
    "    if y <8:\n",
    "        return x*y\n",
    "    else:\n",
    "        print((x*8)+((1.5*x)*(y-8)))\n",
    "pay(4.0,11)"
   ]
  },
  {
   "cell_type": "code",
   "execution_count": 23,
   "id": "5478f16b",
   "metadata": {
    "scrolled": true
   },
   "outputs": [
    {
     "name": "stdout",
     "output_type": "stream",
     "text": [
      "12.566370614359172\n"
     ]
    }
   ],
   "source": [
    "def area(num):\n",
    "    print((math.pi)*(num**2)) \n",
    "area(2)\n",
    "\n"
   ]
  },
  {
   "cell_type": "code",
   "execution_count": 29,
   "id": "fc6e5619",
   "metadata": {
    "scrolled": false
   },
   "outputs": [
    {
     "name": "stdout",
     "output_type": "stream",
     "text": [
      "low? 300\n",
      "high? 5298\n",
      "sum =  13986903\n"
     ]
    }
   ],
   "source": [
    "low = input('low? ')\n",
    "high =input('high? ')\n",
    "su_m = 0\n",
    "for i in range(int(low),int(high)):\n",
    "    su_m += i\n",
    "print(\"sum = \" , su_m)"
   ]
  },
  {
   "cell_type": "code",
   "execution_count": 18,
   "id": "5555aa2b",
   "metadata": {},
   "outputs": [
    {
     "name": "stdout",
     "output_type": "stream",
     "text": [
      "please whats the number: 0\n"
     ]
    }
   ],
   "source": [
    "#No.8\n",
    "sum=0\n",
    "number=int(input('please whats the number: '))\n",
    "while number!=0:\n",
    "    sum +=number\n",
    "    number=int(input('please whats the number: '))\n",
    "    print('the sum of all your input is '+str(sum))\n",
    "    \n",
    "    \n"
   ]
  },
  {
   "cell_type": "code",
   "execution_count": 3,
   "id": "fbd30738",
   "metadata": {},
   "outputs": [
    {
     "name": "stdout",
     "output_type": "stream",
     "text": [
      "please whats the number: 9\n",
      "please whats the number: 9\n",
      "please whats the number: -3\n",
      "please whats the number: -1\n",
      "the sum of your previous input is 15\n"
     ]
    }
   ],
   "source": [
    "#No.9\n",
    "sum=0\n",
    "minus_num=int(input('please whats the number: '))\n",
    "while minus_num !=-1:\n",
    "    sum +=minus_num\n",
    "    minus_num=int(input('please whats the number: '))\n",
    "if minus_num ==-1:\n",
    "    print('the sum of your previous input is '+str(sum))\n",
    "    "
   ]
  },
  {
   "cell_type": "code",
   "execution_count": 2,
   "id": "fd4ce994",
   "metadata": {},
   "outputs": [
    {
     "name": "stdout",
     "output_type": "stream",
     "text": [
      "hellohellohellohellohellohellohellohellohello\n"
     ]
    }
   ],
   "source": [
    "def rep(name,num):\n",
    "    out_put=name*num\n",
    "    if num>0:\n",
    "        print(out_put)\n",
    "    else:\n",
    "        print(' ')\n",
    "rep('hello',9)\n",
    "    "
   ]
  },
  {
   "cell_type": "code",
   "execution_count": 64,
   "id": "10071851",
   "metadata": {},
   "outputs": [
    {
     "name": "stdout",
     "output_type": "stream",
     "text": [
      "6 "
     ]
    }
   ],
   "source": [
    "def printRange(r,m):\n",
    "    if r < m:\n",
    "        for i in range(r,m+1):\n",
    "            print(i,end=' ')\n",
    "    elif r > m:\n",
    "        for i in range(r,m-1,-1):\n",
    "            print(i,end=' ')\n",
    "    else :\n",
    "        print(r,end=' ')\n",
    "printRange(6,6)"
   ]
  },
  {
   "cell_type": "code",
   "execution_count": 6,
   "id": "276b6ee8",
   "metadata": {
    "scrolled": false
   },
   "outputs": [
    {
     "name": "stdout",
     "output_type": "stream",
     "text": [
      "How many numbers do you want to enter? 4\n",
      "Number 1: 3\n",
      "Number 2: 2\n",
      "Number 3: 1\n",
      "Number 4: 5\n",
      "Smallest = 1\n",
      "Largest = 5\n"
     ]
    }
   ],
   "source": [
    "nom=[]\n",
    "def smallestLargest(ent_num):\n",
    "    for i in range(1,ent_num +1):\n",
    "        show=input('Number ' +str(i) +': ')\n",
    "        nom.append(int(show))\n",
    "    print('Smallest = '+str(min(nom)))\n",
    "    print('Largest = '+str(max(nom)))\n",
    "smallestLargest(int(input('How many numbers do you want to enter? ')))"
   ]
  },
  {
   "cell_type": "code",
   "execution_count": 6,
   "id": "101ba5a9",
   "metadata": {},
   "outputs": [
    {
     "name": "stdout",
     "output_type": "stream",
     "text": [
      "2\n"
     ]
    }
   ],
   "source": [
    "def numUnique(x,y,z):\n",
    "    con=[x,y,z]\n",
    "    change=set(con)\n",
    "    print(len(change))\n",
    "numUnique(4,3,4)"
   ]
  },
  {
   "cell_type": "code",
   "execution_count": 7,
   "id": "ff0b741e",
   "metadata": {},
   "outputs": [],
   "source": [
    "import random"
   ]
  },
  {
   "cell_type": "code",
   "execution_count": 10,
   "id": "783ace5a",
   "metadata": {
    "scrolled": true
   },
   "outputs": [
    {
     "name": "stdout",
     "output_type": "stream",
     "text": [
      "6 + 5 = 11\n",
      "3 + 3 = 6\n",
      "2 + 3 = 5\n",
      "3 + 1 = 4\n",
      "3 + 6 = 9\n",
      "6 + 3 = 9\n",
      "1 + 4 = 5\n",
      "3 + 4 = 7\n",
      "you won after 8 tries\n"
     ]
    }
   ],
   "source": [
    "import random\n",
    "count=0\n",
    "while True:\n",
    "    dieA=random.randint(1,6)\n",
    "    dieB=random.randint(1,6)\n",
    "    alg=dieA+dieB\n",
    "    count +=1\n",
    "    print(f'{dieA} + {dieB} = {alg}')\n",
    "    if alg ==7:\n",
    "        break\n",
    "print(f'you won after {count} tries')"
   ]
  },
  {
   "cell_type": "code",
   "execution_count": 13,
   "id": "ec500d2d",
   "metadata": {},
   "outputs": [
    {
     "name": "stdout",
     "output_type": "stream",
     "text": [
      "Type a number: 4\n",
      "Type a number: 6\n",
      "Type a number: -1\n",
      "Average was 5.0\n"
     ]
    }
   ],
   "source": [
    "def printAverage():\n",
    "    total=0\n",
    "    count=0\n",
    "while True:\n",
    "    prompt=input('Type a number: ')\n",
    "    if int(prompt) <0:\n",
    "        if count==0:\n",
    "            print('A negative number was entered')\n",
    "        else:\n",
    "            ave=total/count\n",
    "            print(f'Average was {ave}')\n",
    "        break\n",
    "    count +=1\n",
    "    total+=int(prompt)\n",
    "\n",
    "printAverage()"
   ]
  },
  {
   "cell_type": "code",
   "execution_count": 12,
   "id": "64206e64",
   "metadata": {},
   "outputs": [
    {
     "name": "stdout",
     "output_type": "stream",
     "text": [
      "Type a number: 7\n",
      "Type a number: 3\n",
      "Type a number: -1\n",
      "Average was 5.0\n"
     ]
    }
   ],
   "source": [
    "total=0\n",
    "count=0\n",
    "while True:\n",
    "    prompt=input('Type a number: ')\n",
    "    if int(prompt) <0:\n",
    "        if count==0:\n",
    "            print('A negative number was entered')\n",
    "        else:\n",
    "            alg=total/count\n",
    "            print(f'Average was {alg}')\n",
    "        break\n",
    "    count +=1\n",
    "    total+=int(prompt)\n"
   ]
  },
  {
   "cell_type": "code",
   "execution_count": null,
   "id": "2e636b2e",
   "metadata": {},
   "outputs": [],
   "source": []
  }
 ],
 "metadata": {
  "kernelspec": {
   "display_name": "Python 3 (ipykernel)",
   "language": "python",
   "name": "python3"
  },
  "language_info": {
   "codemirror_mode": {
    "name": "ipython",
    "version": 3
   },
   "file_extension": ".py",
   "mimetype": "text/x-python",
   "name": "python",
   "nbconvert_exporter": "python",
   "pygments_lexer": "ipython3",
   "version": "3.11.4"
  }
 },
 "nbformat": 4,
 "nbformat_minor": 5
}
